{
 "cells": [
  {
   "cell_type": "code",
   "execution_count": 1,
   "metadata": {},
   "outputs": [],
   "source": [
    "import pandas as pd\n",
    "import numpy as np\n",
    "import json\n",
    "from scipy import sparse as sp\n",
    "from tqdm.notebook import tqdm\n",
    "from collections import defaultdict"
   ]
  },
  {
   "cell_type": "code",
   "execution_count": 2,
   "metadata": {},
   "outputs": [],
   "source": [
    "import sys\n",
    "sys.path.append('../src')"
   ]
  },
  {
   "cell_type": "code",
   "execution_count": 43,
   "metadata": {},
   "outputs": [
    {
     "name": "stderr",
     "output_type": "stream",
     "text": [
      "C:\\Users\\danek\\AppData\\Local\\Temp\\ipykernel_4468\\2440924440.py:29: UserWarning: Boolean Series key will be reindexed to match DataFrame index.\n",
      "  tmpList = pr[pr[\"UserId\"] == x['userId']][pr[\"CheckId\"] == x['checkId']][pr[\"MerchantName\"] == x['merchantName']].values\n"
     ]
    },
    {
     "ename": "KeyboardInterrupt",
     "evalue": "",
     "output_type": "error",
     "traceback": [
      "\u001b[1;31m---------------------------------------------------------------------------\u001b[0m",
      "\u001b[1;31mKeyboardInterrupt\u001b[0m                         Traceback (most recent call last)",
      "\u001b[1;32mc:\\Users\\danek\\Documents\\GitHub\\retailhero-recomender-baseline\\sandbox\\dummy_baseline.ipynb Cell 3'\u001b[0m in \u001b[0;36m<cell line: 28>\u001b[1;34m()\u001b[0m\n\u001b[0;32m     <a href='vscode-notebook-cell:/c%3A/Users/danek/Documents/GitHub/retailhero-recomender-baseline/sandbox/dummy_baseline.ipynb#ch0000002?line=26'>27</a>\u001b[0m checkList \u001b[39m=\u001b[39m []\n\u001b[0;32m     <a href='vscode-notebook-cell:/c%3A/Users/danek/Documents/GitHub/retailhero-recomender-baseline/sandbox/dummy_baseline.ipynb#ch0000002?line=27'>28</a>\u001b[0m \u001b[39mfor\u001b[39;00m x \u001b[39min\u001b[39;00m clearCheckList:\n\u001b[1;32m---> <a href='vscode-notebook-cell:/c%3A/Users/danek/Documents/GitHub/retailhero-recomender-baseline/sandbox/dummy_baseline.ipynb#ch0000002?line=28'>29</a>\u001b[0m     tmpList \u001b[39m=\u001b[39m pr[pr[\u001b[39m\"\u001b[39m\u001b[39mUserId\u001b[39m\u001b[39m\"\u001b[39m] \u001b[39m==\u001b[39m x[\u001b[39m'\u001b[39m\u001b[39muserId\u001b[39m\u001b[39m'\u001b[39m]][pr[\u001b[39m\"\u001b[39;49m\u001b[39mCheckId\u001b[39;49m\u001b[39m\"\u001b[39;49m] \u001b[39m==\u001b[39;49m x[\u001b[39m'\u001b[39;49m\u001b[39mcheckId\u001b[39;49m\u001b[39m'\u001b[39;49m]][pr[\u001b[39m\"\u001b[39m\u001b[39mMerchantName\u001b[39m\u001b[39m\"\u001b[39m] \u001b[39m==\u001b[39m x[\u001b[39m'\u001b[39m\u001b[39mmerchantName\u001b[39m\u001b[39m'\u001b[39m]]\u001b[39m.\u001b[39mvalues\n\u001b[0;32m     <a href='vscode-notebook-cell:/c%3A/Users/danek/Documents/GitHub/retailhero-recomender-baseline/sandbox/dummy_baseline.ipynb#ch0000002?line=29'>30</a>\u001b[0m     prodList \u001b[39m=\u001b[39m []\n\u001b[0;32m     <a href='vscode-notebook-cell:/c%3A/Users/danek/Documents/GitHub/retailhero-recomender-baseline/sandbox/dummy_baseline.ipynb#ch0000002?line=30'>31</a>\u001b[0m     \u001b[39mfor\u001b[39;00m y \u001b[39min\u001b[39;00m tmpList:\n",
      "File \u001b[1;32mc:\\Users\\danek\\AppData\\Local\\Programs\\Python\\Python310\\lib\\site-packages\\pandas\\core\\ops\\common.py:70\u001b[0m, in \u001b[0;36m_unpack_zerodim_and_defer.<locals>.new_method\u001b[1;34m(self, other)\u001b[0m\n\u001b[0;32m     66\u001b[0m             \u001b[39mreturn\u001b[39;00m \u001b[39mNotImplemented\u001b[39m\n\u001b[0;32m     68\u001b[0m other \u001b[39m=\u001b[39m item_from_zerodim(other)\n\u001b[1;32m---> 70\u001b[0m \u001b[39mreturn\u001b[39;00m method(\u001b[39mself\u001b[39;49m, other)\n",
      "File \u001b[1;32mc:\\Users\\danek\\AppData\\Local\\Programs\\Python\\Python310\\lib\\site-packages\\pandas\\core\\arraylike.py:40\u001b[0m, in \u001b[0;36mOpsMixin.__eq__\u001b[1;34m(self, other)\u001b[0m\n\u001b[0;32m     38\u001b[0m \u001b[39m@unpack_zerodim_and_defer\u001b[39m(\u001b[39m\"\u001b[39m\u001b[39m__eq__\u001b[39m\u001b[39m\"\u001b[39m)\n\u001b[0;32m     39\u001b[0m \u001b[39mdef\u001b[39;00m \u001b[39m__eq__\u001b[39m(\u001b[39mself\u001b[39m, other):\n\u001b[1;32m---> 40\u001b[0m     \u001b[39mreturn\u001b[39;00m \u001b[39mself\u001b[39;49m\u001b[39m.\u001b[39;49m_cmp_method(other, operator\u001b[39m.\u001b[39;49meq)\n",
      "File \u001b[1;32mc:\\Users\\danek\\AppData\\Local\\Programs\\Python\\Python310\\lib\\site-packages\\pandas\\core\\series.py:5623\u001b[0m, in \u001b[0;36mSeries._cmp_method\u001b[1;34m(self, other, op)\u001b[0m\n\u001b[0;32m   5620\u001b[0m rvalues \u001b[39m=\u001b[39m extract_array(other, extract_numpy\u001b[39m=\u001b[39m\u001b[39mTrue\u001b[39;00m, extract_range\u001b[39m=\u001b[39m\u001b[39mTrue\u001b[39;00m)\n\u001b[0;32m   5622\u001b[0m \u001b[39mwith\u001b[39;00m np\u001b[39m.\u001b[39merrstate(\u001b[39mall\u001b[39m\u001b[39m=\u001b[39m\u001b[39m\"\u001b[39m\u001b[39mignore\u001b[39m\u001b[39m\"\u001b[39m):\n\u001b[1;32m-> 5623\u001b[0m     res_values \u001b[39m=\u001b[39m ops\u001b[39m.\u001b[39;49mcomparison_op(lvalues, rvalues, op)\n\u001b[0;32m   5625\u001b[0m \u001b[39mreturn\u001b[39;00m \u001b[39mself\u001b[39m\u001b[39m.\u001b[39m_construct_result(res_values, name\u001b[39m=\u001b[39mres_name)\n",
      "File \u001b[1;32mc:\\Users\\danek\\AppData\\Local\\Programs\\Python\\Python310\\lib\\site-packages\\pandas\\core\\ops\\array_ops.py:286\u001b[0m, in \u001b[0;36mcomparison_op\u001b[1;34m(left, right, op)\u001b[0m\n\u001b[0;32m    283\u001b[0m     res_values \u001b[39m=\u001b[39m comp_method_OBJECT_ARRAY(op, lvalues, rvalues)\n\u001b[0;32m    285\u001b[0m \u001b[39melse\u001b[39;00m:\n\u001b[1;32m--> 286\u001b[0m     res_values \u001b[39m=\u001b[39m _na_arithmetic_op(lvalues, rvalues, op, is_cmp\u001b[39m=\u001b[39;49m\u001b[39mTrue\u001b[39;49;00m)\n\u001b[0;32m    288\u001b[0m \u001b[39mreturn\u001b[39;00m res_values\n",
      "File \u001b[1;32mc:\\Users\\danek\\AppData\\Local\\Programs\\Python\\Python310\\lib\\site-packages\\pandas\\core\\ops\\array_ops.py:163\u001b[0m, in \u001b[0;36m_na_arithmetic_op\u001b[1;34m(left, right, op, is_cmp)\u001b[0m\n\u001b[0;32m    160\u001b[0m     func \u001b[39m=\u001b[39m partial(expressions\u001b[39m.\u001b[39mevaluate, op)\n\u001b[0;32m    162\u001b[0m \u001b[39mtry\u001b[39;00m:\n\u001b[1;32m--> 163\u001b[0m     result \u001b[39m=\u001b[39m func(left, right)\n\u001b[0;32m    164\u001b[0m \u001b[39mexcept\u001b[39;00m \u001b[39mTypeError\u001b[39;00m:\n\u001b[0;32m    165\u001b[0m     \u001b[39mif\u001b[39;00m \u001b[39mnot\u001b[39;00m is_cmp \u001b[39mand\u001b[39;00m (is_object_dtype(left\u001b[39m.\u001b[39mdtype) \u001b[39mor\u001b[39;00m is_object_dtype(right)):\n\u001b[0;32m    166\u001b[0m         \u001b[39m# For object dtype, fallback to a masked operation (only operating\u001b[39;00m\n\u001b[0;32m    167\u001b[0m         \u001b[39m#  on the non-missing values)\u001b[39;00m\n\u001b[0;32m    168\u001b[0m         \u001b[39m# Don't do this for comparisons, as that will handle complex numbers\u001b[39;00m\n\u001b[0;32m    169\u001b[0m         \u001b[39m#  incorrectly, see GH#32047\u001b[39;00m\n",
      "File \u001b[1;32mc:\\Users\\danek\\AppData\\Local\\Programs\\Python\\Python310\\lib\\site-packages\\pandas\\core\\computation\\expressions.py:239\u001b[0m, in \u001b[0;36mevaluate\u001b[1;34m(op, a, b, use_numexpr)\u001b[0m\n\u001b[0;32m    236\u001b[0m \u001b[39mif\u001b[39;00m op_str \u001b[39mis\u001b[39;00m \u001b[39mnot\u001b[39;00m \u001b[39mNone\u001b[39;00m:\n\u001b[0;32m    237\u001b[0m     \u001b[39mif\u001b[39;00m use_numexpr:\n\u001b[0;32m    238\u001b[0m         \u001b[39m# error: \"None\" not callable\u001b[39;00m\n\u001b[1;32m--> 239\u001b[0m         \u001b[39mreturn\u001b[39;00m _evaluate(op, op_str, a, b)  \u001b[39m# type: ignore[misc]\u001b[39;00m\n\u001b[0;32m    240\u001b[0m \u001b[39mreturn\u001b[39;00m _evaluate_standard(op, op_str, a, b)\n",
      "File \u001b[1;32mc:\\Users\\danek\\AppData\\Local\\Programs\\Python\\Python310\\lib\\site-packages\\pandas\\core\\computation\\expressions.py:69\u001b[0m, in \u001b[0;36m_evaluate_standard\u001b[1;34m(op, op_str, a, b)\u001b[0m\n\u001b[0;32m     67\u001b[0m \u001b[39mif\u001b[39;00m _TEST_MODE:\n\u001b[0;32m     68\u001b[0m     _store_test_result(\u001b[39mFalse\u001b[39;00m)\n\u001b[1;32m---> 69\u001b[0m \u001b[39mreturn\u001b[39;00m op(a, b)\n",
      "\u001b[1;31mKeyboardInterrupt\u001b[0m: "
     ]
    }
   ],
   "source": [
    "checkList = []\n",
    "pr = pd.read_csv('../data/raw/HistoryDataSet.csv')\n",
    "clearUserList = pr[\"UserId\"].unique()\n",
    "\n",
    "rawProductList = pr[[\"ProductName\",\"ProductCost\",\"MerchantName\"]].values\n",
    "rawrawProductList =[]\n",
    "for x in rawProductList:\n",
    "    rawrawProductList.append(x[0]+\";\"+str(x[1])+\";\"+x[2])\n",
    "rawrawrawProductList = list(set(rawrawProductList))\n",
    "productList = []\n",
    "i = 0\n",
    "for x in rawrawrawProductList:\n",
    "    data = x.split(\";\")\n",
    "    productList.append({'id':hash(data[0])+hash(data[1])+hash(data[2]),'name':data[0],'cost':int(data[1]),'merchantName':data[2]})\n",
    "    i+=1\n",
    "\n",
    "\n",
    "tmpList = pr[[\"UserId\",\"CheckId\",\"MerchantName\"]].values\n",
    "tmp2List = []\n",
    "for x in tmpList:\n",
    "    tmp2List.append(str(x[0])+\";\"+str(x[1])+\";\"+x[2])\n",
    "tmpList = list(set(tmp2List))\n",
    "clearCheckList = []\n",
    "for x in tmpList:\n",
    "    data = x.split(\";\")\n",
    "    clearCheckList.append({'userId':int(data[0]),'checkId':int(data[1]),'merchantName':data[2]})\n",
    "checkList = []\n",
    "\n",
    "for x in clearCheckList:\n",
    "    tmpList = pr[pr[\"UserId\"] == x['userId']][pr[\"CheckId\"] == x['checkId']][pr[\"MerchantName\"] == x['merchantName']].values\n",
    "    prodList = []\n",
    "    for y in tmpList:\n",
    "        for z in productList:\n",
    "            if (z['name'] == y[2] and\n",
    "             z['cost'] == y[3] and \n",
    "             z['merchantName'] == y[4]):\n",
    "                needId = z['id']\n",
    "                break\n",
    "        prodList.append(needId)\n",
    "    checkList.append({'userId':int(x['userId']),'checkId':int(x['checkId']),'merchantName':x['merchantName'], \"checks\": prodList})\n",
    "print(len(checkList))\n",
    "\n",
    "\n",
    "userList = []\n",
    "for y in clearUserList:\n",
    "    tmpList = pr[pr[\"UserId\"] == y][[\"CheckId\",\"MerchantName\"]].values\n",
    "    tmp2List = []\n",
    "    for x in tmpList:\n",
    "        tmp2List.append(str(y)+\";\"+str(x[0])+\";\"+x[1])\n",
    "    tmpList = list(set(tmp2List))\n",
    "    checkList = []\n",
    "    for x in tmpList:\n",
    "        data = x.split(\";\")\n",
    "        checkList.append({'checkId':int(data[1]),'merchantName':data[2]})\n",
    "    userList.append({'userId':int(y), 'checks': checkList})\n",
    "\n",
    "\n",
    "\n",
    "#fp = open('checkList.json', 'w')\n",
    "#fp.write(json.dumps(userList))\n",
    "#fp.close()"
   ]
  },
  {
   "cell_type": "markdown",
   "metadata": {},
   "source": [
    "# Check MAP@30"
   ]
  },
  {
   "cell_type": "code",
   "execution_count": 27,
   "metadata": {},
   "outputs": [
    {
     "name": "stdout",
     "output_type": "stream",
     "text": [
      "Empty DataFrame\n",
      "Columns: [UserId, CheckId, ProductName, ProductCost, MerchantName, MCC]\n",
      "Index: []\n"
     ]
    }
   ],
   "source": []
  }
 ],
 "metadata": {
  "kernelspec": {
   "display_name": "Python 3.10.5 64-bit",
   "language": "python",
   "name": "python3"
  },
  "language_info": {
   "codemirror_mode": {
    "name": "ipython",
    "version": 3
   },
   "file_extension": ".py",
   "mimetype": "text/x-python",
   "name": "python",
   "nbconvert_exporter": "python",
   "pygments_lexer": "ipython3",
   "version": "3.10.5"
  },
  "vscode": {
   "interpreter": {
    "hash": "da32c008e18680bd23a3b0298d87e0b0f65fe62bf040a4359d6bd4163b9d68be"
   }
  }
 },
 "nbformat": 4,
 "nbformat_minor": 2
}
