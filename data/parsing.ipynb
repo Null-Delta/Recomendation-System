{
 "cells": [
  {
   "cell_type": "code",
   "execution_count": 1,
   "metadata": {},
   "outputs": [],
   "source": [
    "import pandas as pd\n",
    "import numpy as np\n",
    "import json\n",
    "import random\n",
    "from scipy import sparse as sp\n",
    "from tqdm.notebook import tqdm\n",
    "from collections import defaultdict\n",
    "import sys\n",
    "sys.path.append('../')"
   ]
  },
  {
   "cell_type": "code",
   "execution_count": 5,
   "metadata": {},
   "outputs": [],
   "source": [
    "checkList = []\n",
    "pr = pd.read_csv('../data/raw/HistoryDataSet.csv')\n",
    "\n",
    "#парсинг продуктов\n",
    "rawProductList = pr[[\"ProductName\",\"ProductCost\",\"MerchantName\"]].values\n",
    "rawrawProductList =[]\n",
    "for x in rawProductList:\n",
    "    if (x[0] != \"Nan\"):\n",
    "        rawrawProductList.append(x[0]+\";\"+str(x[1])+\";\"+x[2])\n",
    "rawrawrawProductList = list(set(rawrawProductList))\n",
    "productList = []\n",
    "for x in rawrawrawProductList:\n",
    "    data = x.split(\";\")\n",
    "    productList.append({'name':data[0],'cost':int(data[1]),'merchantName':data[2]})\n",
    "\n",
    "fp = open('products.json', 'w')\n",
    "fp.write(json.dumps(productList, ensure_ascii=False))\n",
    "fp.close()\n",
    "\n",
    "# #парсинг юзеров\n",
    "clearUserList = pr[\"UserId\"].unique()\n",
    "userList = []\n",
    "for y in clearUserList:\n",
    "    tmpList = pr[pr[\"UserId\"] == y].values\n",
    "    idList = []\n",
    "    mapList = {}\n",
    "    for x in tmpList:\n",
    "        key = str(x[1])+x[4]\n",
    "        if (key in mapList):\n",
    "            if (x[2] != \"Nan\"):\n",
    "                mapList[key].append(x[2]+\";\"+str(x[3])+\";\"+x[4])\n",
    "        else:\n",
    "            if (x[2] != \"Nan\"):\n",
    "                mapList[key] = [x[2]+\";\"+str(x[3])+\";\"+x[4]]\n",
    "    userList.append({'userId':int(y),'checks':list(mapList.values())})\n",
    "\n",
    "fp = open('users.json', 'w', encoding=\"ANSI\")\n",
    "fp.write(json.dumps(userList, ensure_ascii=False))\n",
    "fp.close()\n",
    "\n",
    "#парсинг магазинов\n",
    "tmp = pr[[\"MerchantName\", \"MCC\"]].values\n",
    "tmp2 =[]\n",
    "for x in tmp:\n",
    "    tmp2.append(x[0]+\";\"+str(x[1]))\n",
    "tmp = list(set(tmp2))\n",
    "merchantList = []\n",
    "\n",
    "for x in tmp:\n",
    "    data = x.split(\";\")\n",
    "    tmp2 =pr[pr[\"MerchantName\"] == data[0]].values\n",
    "    tmp3 = []\n",
    "    for y in tmp2:\n",
    "        if (y[2] != \"Nan\"):\n",
    "            tmp3.append(y[2]+\";\"+str(y[3])+\";\"+y[4])\n",
    "    tmp2 = list(set(tmp3))\n",
    "\n",
    "    merchantList.append({'merchantName':data[0], 'MCC':data[1], 'cashback':random.randint(0,4)*5 ,'koef':random.random()+1,'products':tmp2})\n",
    "\n",
    "fp = open('merchants.json', 'w')\n",
    "fp.write(json.dumps(merchantList, ensure_ascii=False))\n",
    "fp.close()\n",
    "\n",
    "\n",
    "\n",
    "\n"
   ]
  },
  {
   "cell_type": "markdown",
   "metadata": {},
   "source": [
    "# Check MAP@30"
   ]
  },
  {
   "cell_type": "code",
   "execution_count": 3,
   "metadata": {},
   "outputs": [
    {
     "name": "stdout",
     "output_type": "stream",
     "text": [
      "[[635 17 'Творог' 40 'Пятёрочка' 5441]\n",
      " [635 17 'Чай чёрный' 120 'Пятёрочка' 5441]\n",
      " [635 17 'Сосиски' 166 'Пятёрочка' 5441]\n",
      " [635 17 'Хлебцы' 80 'Пятёрочка' 5441]\n",
      " [635 17 'Грибы грузди солёные' 130 'Пятёрочка' 5441]\n",
      " [635 17 'Доширак' 45 'Пятёрочка' 5441]]\n"
     ]
    },
    {
     "name": "stderr",
     "output_type": "stream",
     "text": [
      "C:\\Users\\danek\\AppData\\Local\\Temp\\ipykernel_10880\\1488495153.py:1: UserWarning: Boolean Series key will be reindexed to match DataFrame index.\n",
      "  print( (((pr[pr[\"UserId\"] == 635])[pr[\"CheckId\"] == 17])[pr[\"MerchantName\"] == 'Пятёрочка']).values)\n"
     ]
    }
   ],
   "source": [
    "print( (((pr[pr[\"UserId\"] == 635])[pr[\"CheckId\"] == 17])[pr[\"MerchantName\"] == 'Пятёрочка']).values)"
   ]
  }
 ],
 "metadata": {
  "kernelspec": {
   "display_name": "Python 3.10.5 64-bit",
   "language": "python",
   "name": "python3"
  },
  "language_info": {
   "codemirror_mode": {
    "name": "ipython",
    "version": 3
   },
   "file_extension": ".py",
   "mimetype": "text/x-python",
   "name": "python",
   "nbconvert_exporter": "python",
   "pygments_lexer": "ipython3",
   "version": "3.10.5"
  },
  "vscode": {
   "interpreter": {
    "hash": "da32c008e18680bd23a3b0298d87e0b0f65fe62bf040a4359d6bd4163b9d68be"
   }
  }
 },
 "nbformat": 4,
 "nbformat_minor": 2
}
